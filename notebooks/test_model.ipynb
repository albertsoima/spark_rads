{
 "cells": [
  {
   "cell_type": "code",
   "execution_count": 1,
   "metadata": {
    "collapsed": true
   },
   "outputs": [],
   "source": [
    "import pandas as pd\n",
    "import numpy as np\n",
    "import matplotlib.pyplot as plt\n",
    "import seaborn as sns\n",
    "from pyspark.sql import Row\n",
    "from pyspark.sql.types import *\n",
    "from datetime import datetime\n",
    "from pyspark.sql.functions import col, udf, unix_timestamp"
   ]
  },
  {
   "cell_type": "code",
   "execution_count": 2,
   "metadata": {
    "collapsed": false
   },
   "outputs": [
    {
     "data": {
      "text/plain": [
       "[(u'spark.driver.host', u'192.168.42.75'),\n",
       " (u'spark.driver.port', u'55414'),\n",
       " (u'spark.sql.catalogImplementation', u'hive'),\n",
       " (u'spark.driver.memory', u'4g'),\n",
       " (u'spark.rdd.compress', u'True'),\n",
       " (u'spark.executor.memory', u'4g'),\n",
       " (u'spark.serializer.objectStreamReset', u'100'),\n",
       " (u'spark.master', u'local[*]'),\n",
       " (u'spark.executor.id', u'driver'),\n",
       " (u'spark.submit.deployMode', u'client'),\n",
       " (u'hive.metastore.warehouse.dir',\n",
       "  u'file:/Users/rogerwu/Github/spark_rads/notebooks/spark-warehouse'),\n",
       " (u'spark.app.name', u'PySparkShell'),\n",
       " (u'spark.app.id', u'local-1484552566127')]"
      ]
     },
     "execution_count": 2,
     "metadata": {},
     "output_type": "execute_result"
    }
   ],
   "source": [
    "sc.getConf().getAll()"
   ]
  },
  {
   "cell_type": "code",
   "execution_count": 3,
   "metadata": {
    "collapsed": true
   },
   "outputs": [],
   "source": [
    "file_name = '../data/transactions.csv'\n",
    "chunksize = 10 ** 5\n",
    "chunk_iter = pd.read_csv(file_name, chunksize=chunksize)"
   ]
  },
  {
   "cell_type": "code",
   "execution_count": 4,
   "metadata": {
    "collapsed": false
   },
   "outputs": [
    {
     "name": "stdout",
     "output_type": "stream",
     "text": [
      "<class 'pandas.core.frame.DataFrame'>\n",
      "RangeIndex: 100000 entries, 0 to 99999\n",
      "Data columns (total 11 columns):\n",
      "id                  100000 non-null int64\n",
      "chain               100000 non-null int64\n",
      "dept                100000 non-null int64\n",
      "category            100000 non-null int64\n",
      "company             100000 non-null int64\n",
      "brand               100000 non-null int64\n",
      "date                100000 non-null object\n",
      "productsize         100000 non-null float64\n",
      "productmeasure      100000 non-null object\n",
      "purchasequantity    100000 non-null int64\n",
      "purchaseamount      100000 non-null float64\n",
      "dtypes: float64(2), int64(7), object(2)\n",
      "memory usage: 8.4+ MB\n"
     ]
    }
   ],
   "source": [
    "chunk1 = chunk_iter.next()\n",
    "# Convert to string\n",
    "chunk1['date'] = chunk1['date'].astype(str)\n",
    "chunk1['productmeasure'] = chunk1['productmeasure'].astype(str)\n",
    "chunk1.info()"
   ]
  },
  {
   "cell_type": "code",
   "execution_count": 5,
   "metadata": {
    "collapsed": false
   },
   "outputs": [],
   "source": [
    "schema1 = StructType([\n",
    "    StructField(\"id\", LongType(), False),\n",
    "    StructField(\"chain\", LongType(), True),\n",
    "    StructField(\"dept\", LongType(), True),\n",
    "    StructField(\"category\", LongType(), True),\n",
    "    StructField(\"company\", LongType(), True),\n",
    "    StructField(\"brand\", LongType(), True),\n",
    "    StructField(\"date\", StringType(), True),\n",
    "    StructField(\"productsize\", DoubleType(), True),\n",
    "    StructField(\"purchasemeasure\", StringType(), True),\n",
    "    StructField(\"purchasequantity\", LongType(), True),\n",
    "    StructField(\"purchaseamount\", DoubleType(), True)\n",
    "    ])"
   ]
  },
  {
   "cell_type": "code",
   "execution_count": 6,
   "metadata": {
    "collapsed": false
   },
   "outputs": [],
   "source": [
    "transactions = sqlContext.createDataFrame(chunk1, schema1)"
   ]
  },
  {
   "cell_type": "code",
   "execution_count": 7,
   "metadata": {
    "collapsed": false
   },
   "outputs": [],
   "source": [
    "# Convert date column to a date type\n",
    "func = udf(lambda x: datetime.strptime(x, '%Y-%M-%d'), DateType())\n",
    "transactions = transactions.withColumn('date', func(col('date')))"
   ]
  },
  {
   "cell_type": "code",
   "execution_count": 8,
   "metadata": {
    "collapsed": false
   },
   "outputs": [
    {
     "name": "stdout",
     "output_type": "stream",
     "text": [
      "root\n",
      " |-- id: long (nullable = false)\n",
      " |-- chain: long (nullable = true)\n",
      " |-- dept: long (nullable = true)\n",
      " |-- category: long (nullable = true)\n",
      " |-- company: long (nullable = true)\n",
      " |-- brand: long (nullable = true)\n",
      " |-- date: date (nullable = true)\n",
      " |-- productsize: double (nullable = true)\n",
      " |-- purchasemeasure: string (nullable = true)\n",
      " |-- purchasequantity: long (nullable = true)\n",
      " |-- purchaseamount: double (nullable = true)\n",
      "\n"
     ]
    }
   ],
   "source": [
    "transactions.printSchema()"
   ]
  },
  {
   "cell_type": "code",
   "execution_count": 9,
   "metadata": {
    "collapsed": false
   },
   "outputs": [
    {
     "name": "stdout",
     "output_type": "stream",
     "text": [
      "+-----+-----+----+--------+----------+-----+----------+-----------+---------------+----------------+--------------+\n",
      "|   id|chain|dept|category|   company|brand|      date|productsize|purchasemeasure|purchasequantity|purchaseamount|\n",
      "+-----+-----+----+--------+----------+-----+----------+-----------+---------------+----------------+--------------+\n",
      "|86246|  205|   7|     707|1078778070|12564|2012-01-02|       12.0|             OZ|               1|          7.59|\n",
      "|86246|  205|  63|    6319| 107654575|17876|2012-01-02|       64.0|             OZ|               1|          1.59|\n",
      "|86246|  205|  97|    9753|1022027929|    0|2012-01-02|        1.0|             CT|               1|          5.99|\n",
      "|86246|  205|  25|    2509| 107996777|31373|2012-01-02|       16.0|             OZ|               1|          1.99|\n",
      "|86246|  205|  55|    5555| 107684070|32094|2012-01-02|       16.0|             OZ|               2|         10.38|\n",
      "|86246|  205|  97|    9753|1021015020|    0|2012-01-02|        1.0|             CT|               1|           7.8|\n",
      "|86246|  205|  99|    9909| 104538848|15343|2012-01-02|       16.0|             OZ|               1|          2.49|\n",
      "|86246|  205|  59|    5907| 102900020| 2012|2012-01-02|       16.0|             OZ|               1|          1.39|\n",
      "|86246|  205|   9|     921| 101128414| 9209|2012-01-02|        4.0|             OZ|               2|           1.5|\n",
      "|86246|  205|  73|    7344|1068142161|20285|2012-01-02|        8.0|             CT|               1|          5.79|\n",
      "|86246|  205|  41|    4107| 104113040|28204|2012-01-02|       14.5|             OZ|               1|          0.59|\n",
      "|86246|  205|  21|    2106| 105100050|27873|2012-01-02|       64.0|             OZ|               1|          3.29|\n",
      "|86246|  205|   8|     814| 102840020|18584|2012-01-02|       15.5|             OZ|               1|          3.29|\n",
      "|86246|  205|  91|    9122| 108200080| 2911|2012-01-02|       10.0|             OZ|               1|          1.99|\n",
      "|86246|  205|  41|    4120| 101116616|15266|2012-01-02|        6.0|             OZ|               1|          0.89|\n",
      "|86246|  205|  63|    6315| 107996777|31373|2012-01-02|       64.0|             OZ|               1|          3.59|\n",
      "|86246|  205|   9|     907| 101410010|13791|2012-01-02|       24.0|             OZ|               1|          3.99|\n",
      "|86246|  205|  97|    9753|1021013323|    0|2012-01-02|        1.0|             CT|               1|          8.87|\n",
      "|86246|  205|  45|    4509|1082650484|59628|2012-01-02|       16.0|             OZ|               1|          4.99|\n",
      "|86246|  205|  26|    2630| 103700030|14647|2012-01-02|       56.0|             CT|               1|           1.0|\n",
      "+-----+-----+----+--------+----------+-----+----------+-----------+---------------+----------------+--------------+\n",
      "only showing top 20 rows\n",
      "\n"
     ]
    }
   ],
   "source": [
    "transactions.show()"
   ]
  },
  {
   "cell_type": "markdown",
   "metadata": {},
   "source": [
    "Get number of refund transactions"
   ]
  },
  {
   "cell_type": "code",
   "execution_count": 10,
   "metadata": {
    "collapsed": false
   },
   "outputs": [
    {
     "name": "stdout",
     "output_type": "stream",
     "text": [
      "+--------+-----------+-------------+\n",
      "|      id|total_trans|total_returns|\n",
      "+--------+-----------+-------------+\n",
      "|18470775|        350|            8|\n",
      "|14723452|        755|            5|\n",
      "|15738658|         39|            0|\n",
      "|17552659|        591|            4|\n",
      "|12996040|        326|            5|\n",
      "|16078766|        966|           54|\n",
      "|18249735|       1557|           60|\n",
      "|14989775|        614|           39|\n",
      "|15073302|        526|           38|\n",
      "|16075389|        591|           32|\n",
      "|16606739|        678|            6|\n",
      "|15705695|        431|            8|\n",
      "|14576147|        817|           66|\n",
      "|15134033|        944|           13|\n",
      "|16551772|       1699|           47|\n",
      "|17652157|       1407|           15|\n",
      "|13089312|       1218|           52|\n",
      "|13744500|       2232|          112|\n",
      "|16829614|        738|           10|\n",
      "|17524817|        328|            7|\n",
      "+--------+-----------+-------------+\n",
      "only showing top 20 rows\n",
      "\n"
     ]
    }
   ],
   "source": [
    "import pyspark.sql.functions as F\n",
    "\n",
    "returns = transactions.select('id',\n",
    "                              F.when(transactions['purchaseamount'] < 0, 1).otherwise(0).alias('return'))\\\n",
    "                      .withColumn('1', F.lit(1))\n",
    "returns = returns.groupBy('id').agg(F.sum('1').alias('total_trans'), F.sum(\"return\").alias('total_returns'))\n",
    "returns.show()"
   ]
  },
  {
   "cell_type": "markdown",
   "metadata": {},
   "source": [
    "# Training data"
   ]
  },
  {
   "cell_type": "code",
   "execution_count": 11,
   "metadata": {
    "collapsed": true
   },
   "outputs": [],
   "source": [
    "train = pd.read_csv('../data/trainHistory.csv')\n",
    "offers = pd.read_csv('../data/offers.csv')"
   ]
  },
  {
   "cell_type": "code",
   "execution_count": 12,
   "metadata": {
    "collapsed": false
   },
   "outputs": [],
   "source": [
    "# Add department to offers\n",
    "dept = []\n",
    "for i in range(offers.shape[0]):\n",
    "    str_category = str(offers['category'].iloc[i])\n",
    "    if len(str_category) == 4:\n",
    "        dept.append(str_category[:2])\n",
    "    else:\n",
    "        dept.append(str_category[:1])\n",
    "offers['dept'] = dept\n",
    "offers['dept'] = pd.to_numeric(offers['dept'])"
   ]
  },
  {
   "cell_type": "code",
   "execution_count": 13,
   "metadata": {
    "collapsed": false
   },
   "outputs": [],
   "source": [
    "train = pd.merge(train, offers, how='left', on=['offer'])"
   ]
  },
  {
   "cell_type": "code",
   "execution_count": 14,
   "metadata": {
    "collapsed": true
   },
   "outputs": [],
   "source": [
    "# Rename columns\n",
    "train.columns = ['id', 'chain', 'offer', 'market', 'repeattrips', 'repeater', 'offerdate', \n",
    "                 'offer_category', 'quantity', 'offer_company', 'offervalue', 'offer_brand',\n",
    "                 'offer_dept']"
   ]
  },
  {
   "cell_type": "code",
   "execution_count": 15,
   "metadata": {
    "collapsed": true
   },
   "outputs": [],
   "source": [
    "# Reencode the target variable\n",
    "train['repeater'] = np.where(train['repeater'] == 't', '1', '0')\n",
    "train['repeater'] = pd.to_numeric(train['repeater'])"
   ]
  },
  {
   "cell_type": "code",
   "execution_count": 16,
   "metadata": {
    "collapsed": true
   },
   "outputs": [],
   "source": [
    "train['offerdate'] = train['offerdate'].astype(str)"
   ]
  },
  {
   "cell_type": "code",
   "execution_count": 17,
   "metadata": {
    "collapsed": false,
    "scrolled": true
   },
   "outputs": [
    {
     "name": "stdout",
     "output_type": "stream",
     "text": [
      "<class 'pandas.core.frame.DataFrame'>\n",
      "Int64Index: 160057 entries, 0 to 160056\n",
      "Data columns (total 13 columns):\n",
      "id                160057 non-null int64\n",
      "chain             160057 non-null int64\n",
      "offer             160057 non-null int64\n",
      "market            160057 non-null int64\n",
      "repeattrips       160057 non-null int64\n",
      "repeater          160057 non-null int64\n",
      "offerdate         160057 non-null object\n",
      "offer_category    160057 non-null int64\n",
      "quantity          160057 non-null int64\n",
      "offer_company     160057 non-null int64\n",
      "offervalue        160057 non-null float64\n",
      "offer_brand       160057 non-null int64\n",
      "offer_dept        160057 non-null int64\n",
      "dtypes: float64(1), int64(11), object(1)\n",
      "memory usage: 17.1+ MB\n"
     ]
    }
   ],
   "source": [
    "train.info()"
   ]
  },
  {
   "cell_type": "code",
   "execution_count": 18,
   "metadata": {
    "collapsed": true
   },
   "outputs": [],
   "source": [
    "train_schema = StructType([\n",
    "    StructField(\"id\", LongType(), False),\n",
    "    StructField(\"offer_chain\", LongType(), True),\n",
    "    StructField(\"offer\", LongType(), True),\n",
    "    StructField(\"market\", LongType(), True),\n",
    "    StructField(\"repeattrips\", LongType(), True),\n",
    "    StructField(\"repeater\", IntegerType(), True),\n",
    "    StructField(\"offerdate\", StringType(), True),\n",
    "    StructField(\"offer_category\", LongType(), True),\n",
    "    StructField(\"quantity\", LongType(), True),\n",
    "    StructField(\"offer_company\", LongType(), True),\n",
    "    StructField(\"offervalue\", DoubleType(), True),\n",
    "    StructField(\"offer_brand\", LongType(), True),\n",
    "    StructField(\"offer_dept\", LongType(), True)\n",
    "    ])"
   ]
  },
  {
   "cell_type": "code",
   "execution_count": 19,
   "metadata": {
    "collapsed": true
   },
   "outputs": [],
   "source": [
    "train_sql = sqlContext.createDataFrame(train, train_schema)"
   ]
  },
  {
   "cell_type": "code",
   "execution_count": 20,
   "metadata": {
    "collapsed": true
   },
   "outputs": [],
   "source": [
    "# Convert offerdate to date type\n",
    "train_sql = train_sql.withColumn('offerdate', func(col('offerdate')))"
   ]
  },
  {
   "cell_type": "code",
   "execution_count": 21,
   "metadata": {
    "collapsed": false
   },
   "outputs": [
    {
     "name": "stdout",
     "output_type": "stream",
     "text": [
      "+--------+-----------+-------+------+-----------+--------+----------+--------------+--------+-------------+----------+-----------+----------+\n",
      "|      id|offer_chain|  offer|market|repeattrips|repeater| offerdate|offer_category|quantity|offer_company|offervalue|offer_brand|offer_dept|\n",
      "+--------+-----------+-------+------+-----------+--------+----------+--------------+--------+-------------+----------+-----------+----------+\n",
      "|   86246|        205|1208251|    34|          5|       1|2013-01-24|          2202|       1|    104460040|       2.0|       3718|        22|\n",
      "|   86252|        205|1197502|    34|         16|       1|2013-01-27|          3203|       1|    106414464|      0.75|      13474|        32|\n",
      "|12682470|         18|1197502|    11|          0|       0|2013-01-28|          3203|       1|    106414464|      0.75|      13474|        32|\n",
      "|12996040|         15|1197502|     9|          0|       0|2013-01-25|          3203|       1|    106414464|      0.75|      13474|        32|\n",
      "|13089312|         15|1204821|     9|          0|       0|2013-01-01|          5619|       1|    107717272|       1.5|     102504|        56|\n",
      "|13179265|         14|1197502|     8|          0|       0|2013-01-29|          3203|       1|    106414464|      0.75|      13474|        32|\n",
      "|13251776|         15|1200581|     9|          0|       0|2013-01-30|          1726|       1|    104460040|      1.25|       7668|        17|\n",
      "|13540129|         14|1200581|     8|          0|       0|2013-01-30|          1726|       1|    104460040|      1.25|       7668|        17|\n",
      "|13807224|          4|1204576|     1|          0|       0|2013-01-05|          5616|       1|    104610040|       1.0|      15889|        56|\n",
      "|13873775|          4|1197502|     1|          0|       0|2013-01-26|          3203|       1|    106414464|      0.75|      13474|        32|\n",
      "|13974451|          4|1197502|     1|          0|       0|2013-01-26|          3203|       1|    106414464|      0.75|      13474|        32|\n",
      "|14088807|          3|1200581|     2|          1|       1|2013-01-17|          1726|       1|    104460040|      1.25|       7668|        17|\n",
      "|14381137|          4|1197502|     1|          0|       0|2013-01-04|          3203|       1|    106414464|      0.75|      13474|        32|\n",
      "|14576147|         18|1197502|    11|          0|       0|2013-01-02|          3203|       1|    106414464|      0.75|      13474|        32|\n",
      "|15530842|         95|1197502|    39|          0|       0|2013-01-19|          3203|       1|    106414464|      0.75|      13474|        32|\n",
      "|15705695|         15|1197502|     9|          0|       0|2013-01-02|          3203|       1|    106414464|      0.75|      13474|        32|\n",
      "|15738658|         17|1197502|     4|          0|       0|2013-01-22|          3203|       1|    106414464|      0.75|      13474|        32|\n",
      "|15753725|         17|1208251|     4|          0|       0|2013-01-24|          2202|       1|    104460040|       2.0|       3718|        22|\n",
      "|15941277|         14|1197502|     8|          1|       1|2013-01-26|          3203|       1|    106414464|      0.75|      13474|        32|\n",
      "|15994113|          4|1197502|     1|          0|       0|2013-01-26|          3203|       1|    106414464|      0.75|      13474|        32|\n",
      "+--------+-----------+-------+------+-----------+--------+----------+--------------+--------+-------------+----------+-----------+----------+\n",
      "only showing top 20 rows\n",
      "\n"
     ]
    }
   ],
   "source": [
    "train_sql.show()"
   ]
  },
  {
   "cell_type": "code",
   "execution_count": 22,
   "metadata": {
    "collapsed": false
   },
   "outputs": [],
   "source": [
    "from pyspark.ml.feature import OneHotEncoder\n",
    "\n",
    "# One-hot-encoding of offer category\n",
    "encoder = OneHotEncoder(inputCol=\"offer\", outputCol=\"categoryVec\")\n",
    "train_sql = encoder.transform(train_sql)"
   ]
  },
  {
   "cell_type": "code",
   "execution_count": 23,
   "metadata": {
    "collapsed": true
   },
   "outputs": [],
   "source": [
    "from pyspark.ml.feature import VectorAssembler\n",
    "\n",
    "assembler = VectorAssembler(inputCols=[\"categoryVec\"], outputCol=\"features\")\n",
    "train_sql = train_sql.withColumnRenamed('repeater', 'label')"
   ]
  },
  {
   "cell_type": "code",
   "execution_count": 24,
   "metadata": {
    "collapsed": false
   },
   "outputs": [
    {
     "data": {
      "text/plain": [
       "DataFrame[id: bigint, offer_chain: bigint, offer: bigint, market: bigint, repeattrips: bigint, label: int, offerdate: date, offer_category: bigint, quantity: bigint, offer_company: bigint, offervalue: double, offer_brand: bigint, offer_dept: bigint, categoryVec: vector, features: vector]"
      ]
     },
     "execution_count": 24,
     "metadata": {},
     "output_type": "execute_result"
    }
   ],
   "source": [
    "output = assembler.transform(train_sql)\n",
    "output.cache()"
   ]
  },
  {
   "cell_type": "code",
   "execution_count": 24,
   "metadata": {
    "collapsed": true
   },
   "outputs": [],
   "source": [
    "from pyspark.ml.classification import LogisticRegression\n",
    "lr = LogisticRegression(maxIter=10)"
   ]
  },
  {
   "cell_type": "code",
   "execution_count": 25,
   "metadata": {
    "collapsed": false
   },
   "outputs": [],
   "source": [
    "# Fit the model\n",
    "lrModel = lr.fit(output)"
   ]
  },
  {
   "cell_type": "code",
   "execution_count": 26,
   "metadata": {
    "collapsed": false
   },
   "outputs": [
    {
     "name": "stdout",
     "output_type": "stream",
     "text": [
      "Coefficients: (1208503,[1194044,1197502,1198271,1198272,1198273,1198274,1198275,1199256,1199258,1200578,1200579,1200581,1200582,1200584,1200988,1203052,1204576,1204821,1204822,1208251,1208252,1208329,1208501],[0.681203943648,-0.764870280075,-0.700849362993,-0.677445036185,-0.799256859902,-0.976931518905,-0.766949007346,-2.01345156334,-1.49523185485,-1.81003891261,-1.51114707284,-1.14736654578,-1.01360352028,-0.592535074481,-0.845522026805,0.283534790813,-0.31888005111,-0.979862005505,-0.903139387374,-0.110685361272,-0.214922612119,0.380995144121,0.134089904891])\n",
      "Intercept: -0.630171091208\n"
     ]
    }
   ],
   "source": [
    "# Print the coefficients and intercept for logistic regression\n",
    "print(\"Coefficients: \" + str(lrModel.coefficients))\n",
    "print(\"Intercept: \" + str(lrModel.intercept))"
   ]
  },
  {
   "cell_type": "code",
   "execution_count": 39,
   "metadata": {
    "collapsed": false
   },
   "outputs": [],
   "source": [
    "train_pred = lrModel.transform(output.select('features'))"
   ]
  },
  {
   "cell_type": "code",
   "execution_count": 46,
   "metadata": {
    "collapsed": false
   },
   "outputs": [
    {
     "name": "stdout",
     "output_type": "stream",
     "text": [
      "+--------------------+--------------------+--------------------+----------+\n",
      "|            features|       rawPrediction|         probability|prediction|\n",
      "+--------------------+--------------------+--------------------+----------+\n",
      "|(1208503,[1208251...|[0.74085645247987...|[0.67718311041802...|       0.0|\n",
      "|(1208503,[1197502...|[1.39504137128290...|[0.80139584987245...|       0.0|\n",
      "|(1208503,[1197502...|[1.39504137128290...|[0.80139584987245...|       0.0|\n",
      "|(1208503,[1197502...|[1.39504137128290...|[0.80139584987245...|       0.0|\n",
      "|(1208503,[1204821...|[1.61003309671347...|[0.83341598141719...|       0.0|\n",
      "|(1208503,[1197502...|[1.39504137128290...|[0.80139584987245...|       0.0|\n",
      "|(1208503,[1200581...|[1.77753763698643...|[0.85539254758090...|       0.0|\n",
      "|(1208503,[1200581...|[1.77753763698643...|[0.85539254758090...|       0.0|\n",
      "|(1208503,[1204576...|[0.94905114231754...|[0.72092431504796...|       0.0|\n",
      "|(1208503,[1197502...|[1.39504137128290...|[0.80139584987245...|       0.0|\n",
      "|(1208503,[1197502...|[1.39504137128290...|[0.80139584987245...|       0.0|\n",
      "|(1208503,[1200581...|[1.77753763698643...|[0.85539254758090...|       0.0|\n",
      "|(1208503,[1197502...|[1.39504137128290...|[0.80139584987245...|       0.0|\n",
      "|(1208503,[1197502...|[1.39504137128290...|[0.80139584987245...|       0.0|\n",
      "|(1208503,[1197502...|[1.39504137128290...|[0.80139584987245...|       0.0|\n",
      "|(1208503,[1197502...|[1.39504137128290...|[0.80139584987245...|       0.0|\n",
      "|(1208503,[1197502...|[1.39504137128290...|[0.80139584987245...|       0.0|\n",
      "|(1208503,[1208251...|[0.74085645247987...|[0.67718311041802...|       0.0|\n",
      "|(1208503,[1197502...|[1.39504137128290...|[0.80139584987245...|       0.0|\n",
      "|(1208503,[1197502...|[1.39504137128290...|[0.80139584987245...|       0.0|\n",
      "+--------------------+--------------------+--------------------+----------+\n",
      "only showing top 20 rows\n",
      "\n"
     ]
    }
   ],
   "source": [
    "train_pred.show()"
   ]
  },
  {
   "cell_type": "code",
   "execution_count": 50,
   "metadata": {
    "collapsed": false
   },
   "outputs": [
    {
     "name": "stdout",
     "output_type": "stream",
     "text": [
      "+--------------------+\n",
      "|    max(probability)|\n",
      "+--------------------+\n",
      "|[0.93361683664692...|\n",
      "+--------------------+\n",
      "\n"
     ]
    }
   ],
   "source": [
    "train_pred.agg(F.max('probability'), F.mean('probability')).show()"
   ]
  },
  {
   "cell_type": "code",
   "execution_count": null,
   "metadata": {
    "collapsed": true
   },
   "outputs": [],
   "source": []
  }
 ],
 "metadata": {
  "anaconda-cloud": {},
  "kernelspec": {
   "display_name": "Python [conda root]",
   "language": "python",
   "name": "conda-root-py"
  },
  "language_info": {
   "codemirror_mode": {
    "name": "ipython",
    "version": 2
   },
   "file_extension": ".py",
   "mimetype": "text/x-python",
   "name": "python",
   "nbconvert_exporter": "python",
   "pygments_lexer": "ipython2",
   "version": "2.7.12"
  }
 },
 "nbformat": 4,
 "nbformat_minor": 1
}
