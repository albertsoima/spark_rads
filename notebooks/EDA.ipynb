{
 "cells": [
  {
   "cell_type": "code",
   "execution_count": 1,
   "metadata": {
    "collapsed": true
   },
   "outputs": [],
   "source": [
    "import pandas as pd\n",
    "import numpy as np\n",
    "import matplotlib.pyplot as plt\n",
    "import seaborn as sns"
   ]
  },
  {
   "cell_type": "markdown",
   "metadata": {},
   "source": [
    "There is a total of 349,655,790 rows with about 22GB of data."
   ]
  },
  {
   "cell_type": "code",
   "execution_count": 2,
   "metadata": {
    "collapsed": false
   },
   "outputs": [],
   "source": [
    "file_name = '../data/transactions.csv'\n",
    "chunksize = 10 ** 7\n",
    "chunk_iter = pd.read_csv(file_name, chunksize=chunksize)"
   ]
  },
  {
   "cell_type": "code",
   "execution_count": 3,
   "metadata": {
    "collapsed": false
   },
   "outputs": [
    {
     "name": "stdout",
     "output_type": "stream",
     "text": [
      "<class 'pandas.core.frame.DataFrame'>\n",
      "RangeIndex: 10000000 entries, 0 to 9999999\n",
      "Data columns (total 11 columns):\n",
      "id                  int64\n",
      "chain               int64\n",
      "dept                int64\n",
      "category            int64\n",
      "company             int64\n",
      "brand               int64\n",
      "date                object\n",
      "productsize         float64\n",
      "productmeasure      object\n",
      "purchasequantity    int64\n",
      "purchaseamount      float64\n",
      "dtypes: float64(2), int64(7), object(2)\n",
      "memory usage: 839.2+ MB\n"
     ]
    }
   ],
   "source": [
    "chunk1 = chunk_iter.next()\n",
    "chunk1.info()"
   ]
  },
  {
   "cell_type": "code",
   "execution_count": 4,
   "metadata": {
    "collapsed": false
   },
   "outputs": [
    {
     "data": {
      "text/html": [
       "<div>\n",
       "<table border=\"1\" class=\"dataframe\">\n",
       "  <thead>\n",
       "    <tr style=\"text-align: right;\">\n",
       "      <th></th>\n",
       "      <th>id</th>\n",
       "      <th>chain</th>\n",
       "      <th>dept</th>\n",
       "      <th>category</th>\n",
       "      <th>company</th>\n",
       "      <th>brand</th>\n",
       "      <th>date</th>\n",
       "      <th>productsize</th>\n",
       "      <th>productmeasure</th>\n",
       "      <th>purchasequantity</th>\n",
       "      <th>purchaseamount</th>\n",
       "    </tr>\n",
       "  </thead>\n",
       "  <tbody>\n",
       "    <tr>\n",
       "      <th>0</th>\n",
       "      <td>86246</td>\n",
       "      <td>205</td>\n",
       "      <td>7</td>\n",
       "      <td>707</td>\n",
       "      <td>1078778070</td>\n",
       "      <td>12564</td>\n",
       "      <td>2012-03-02</td>\n",
       "      <td>12.0</td>\n",
       "      <td>OZ</td>\n",
       "      <td>1</td>\n",
       "      <td>7.59</td>\n",
       "    </tr>\n",
       "    <tr>\n",
       "      <th>1</th>\n",
       "      <td>86246</td>\n",
       "      <td>205</td>\n",
       "      <td>63</td>\n",
       "      <td>6319</td>\n",
       "      <td>107654575</td>\n",
       "      <td>17876</td>\n",
       "      <td>2012-03-02</td>\n",
       "      <td>64.0</td>\n",
       "      <td>OZ</td>\n",
       "      <td>1</td>\n",
       "      <td>1.59</td>\n",
       "    </tr>\n",
       "    <tr>\n",
       "      <th>2</th>\n",
       "      <td>86246</td>\n",
       "      <td>205</td>\n",
       "      <td>97</td>\n",
       "      <td>9753</td>\n",
       "      <td>1022027929</td>\n",
       "      <td>0</td>\n",
       "      <td>2012-03-02</td>\n",
       "      <td>1.0</td>\n",
       "      <td>CT</td>\n",
       "      <td>1</td>\n",
       "      <td>5.99</td>\n",
       "    </tr>\n",
       "    <tr>\n",
       "      <th>3</th>\n",
       "      <td>86246</td>\n",
       "      <td>205</td>\n",
       "      <td>25</td>\n",
       "      <td>2509</td>\n",
       "      <td>107996777</td>\n",
       "      <td>31373</td>\n",
       "      <td>2012-03-02</td>\n",
       "      <td>16.0</td>\n",
       "      <td>OZ</td>\n",
       "      <td>1</td>\n",
       "      <td>1.99</td>\n",
       "    </tr>\n",
       "    <tr>\n",
       "      <th>4</th>\n",
       "      <td>86246</td>\n",
       "      <td>205</td>\n",
       "      <td>55</td>\n",
       "      <td>5555</td>\n",
       "      <td>107684070</td>\n",
       "      <td>32094</td>\n",
       "      <td>2012-03-02</td>\n",
       "      <td>16.0</td>\n",
       "      <td>OZ</td>\n",
       "      <td>2</td>\n",
       "      <td>10.38</td>\n",
       "    </tr>\n",
       "  </tbody>\n",
       "</table>\n",
       "</div>"
      ],
      "text/plain": [
       "      id  chain  dept  category     company  brand        date  productsize  \\\n",
       "0  86246    205     7       707  1078778070  12564  2012-03-02         12.0   \n",
       "1  86246    205    63      6319   107654575  17876  2012-03-02         64.0   \n",
       "2  86246    205    97      9753  1022027929      0  2012-03-02          1.0   \n",
       "3  86246    205    25      2509   107996777  31373  2012-03-02         16.0   \n",
       "4  86246    205    55      5555   107684070  32094  2012-03-02         16.0   \n",
       "\n",
       "  productmeasure  purchasequantity  purchaseamount  \n",
       "0             OZ                 1            7.59  \n",
       "1             OZ                 1            1.59  \n",
       "2             CT                 1            5.99  \n",
       "3             OZ                 1            1.99  \n",
       "4             OZ                 2           10.38  "
      ]
     },
     "execution_count": 4,
     "metadata": {},
     "output_type": "execute_result"
    }
   ],
   "source": [
    "chunk1.head()"
   ]
  },
  {
   "cell_type": "code",
   "execution_count": 5,
   "metadata": {
    "collapsed": false
   },
   "outputs": [
    {
     "data": {
      "text/html": [
       "<div>\n",
       "<table border=\"1\" class=\"dataframe\">\n",
       "  <thead>\n",
       "    <tr style=\"text-align: right;\">\n",
       "      <th></th>\n",
       "      <th>id</th>\n",
       "      <th>chain</th>\n",
       "      <th>dept</th>\n",
       "      <th>category</th>\n",
       "      <th>company</th>\n",
       "      <th>brand</th>\n",
       "      <th>date</th>\n",
       "      <th>productsize</th>\n",
       "      <th>productmeasure</th>\n",
       "      <th>purchasequantity</th>\n",
       "      <th>purchaseamount</th>\n",
       "    </tr>\n",
       "  </thead>\n",
       "  <tbody>\n",
       "    <tr>\n",
       "      <th>9999995</th>\n",
       "      <td>126082871</td>\n",
       "      <td>18</td>\n",
       "      <td>36</td>\n",
       "      <td>3634</td>\n",
       "      <td>1078616272</td>\n",
       "      <td>7237</td>\n",
       "      <td>2012-08-31</td>\n",
       "      <td>32.0</td>\n",
       "      <td>OZ</td>\n",
       "      <td>2</td>\n",
       "      <td>3.00</td>\n",
       "    </tr>\n",
       "    <tr>\n",
       "      <th>9999996</th>\n",
       "      <td>126082871</td>\n",
       "      <td>18</td>\n",
       "      <td>6</td>\n",
       "      <td>610</td>\n",
       "      <td>107084777</td>\n",
       "      <td>11910</td>\n",
       "      <td>2012-08-31</td>\n",
       "      <td>16.0</td>\n",
       "      <td>OZ</td>\n",
       "      <td>1</td>\n",
       "      <td>2.29</td>\n",
       "    </tr>\n",
       "    <tr>\n",
       "      <th>9999997</th>\n",
       "      <td>126082871</td>\n",
       "      <td>18</td>\n",
       "      <td>56</td>\n",
       "      <td>5607</td>\n",
       "      <td>102113020</td>\n",
       "      <td>10786</td>\n",
       "      <td>2012-08-31</td>\n",
       "      <td>16.0</td>\n",
       "      <td>OZ</td>\n",
       "      <td>1</td>\n",
       "      <td>3.49</td>\n",
       "    </tr>\n",
       "    <tr>\n",
       "      <th>9999998</th>\n",
       "      <td>126082871</td>\n",
       "      <td>18</td>\n",
       "      <td>63</td>\n",
       "      <td>6321</td>\n",
       "      <td>107989373</td>\n",
       "      <td>29344</td>\n",
       "      <td>2012-08-31</td>\n",
       "      <td>10.0</td>\n",
       "      <td>OZ</td>\n",
       "      <td>1</td>\n",
       "      <td>3.99</td>\n",
       "    </tr>\n",
       "    <tr>\n",
       "      <th>9999999</th>\n",
       "      <td>126082871</td>\n",
       "      <td>18</td>\n",
       "      <td>33</td>\n",
       "      <td>3305</td>\n",
       "      <td>102840020</td>\n",
       "      <td>18584</td>\n",
       "      <td>2012-08-31</td>\n",
       "      <td>10.0</td>\n",
       "      <td>OZ</td>\n",
       "      <td>1</td>\n",
       "      <td>3.00</td>\n",
       "    </tr>\n",
       "  </tbody>\n",
       "</table>\n",
       "</div>"
      ],
      "text/plain": [
       "                id  chain  dept  category     company  brand        date  \\\n",
       "9999995  126082871     18    36      3634  1078616272   7237  2012-08-31   \n",
       "9999996  126082871     18     6       610   107084777  11910  2012-08-31   \n",
       "9999997  126082871     18    56      5607   102113020  10786  2012-08-31   \n",
       "9999998  126082871     18    63      6321   107989373  29344  2012-08-31   \n",
       "9999999  126082871     18    33      3305   102840020  18584  2012-08-31   \n",
       "\n",
       "         productsize productmeasure  purchasequantity  purchaseamount  \n",
       "9999995         32.0             OZ                 2            3.00  \n",
       "9999996         16.0             OZ                 1            2.29  \n",
       "9999997         16.0             OZ                 1            3.49  \n",
       "9999998         10.0             OZ                 1            3.99  \n",
       "9999999         10.0             OZ                 1            3.00  "
      ]
     },
     "execution_count": 5,
     "metadata": {},
     "output_type": "execute_result"
    }
   ],
   "source": [
    "chunk1.tail()"
   ]
  },
  {
   "cell_type": "code",
   "execution_count": 6,
   "metadata": {
    "collapsed": false
   },
   "outputs": [
    {
     "data": {
      "text/html": [
       "<div>\n",
       "<table border=\"1\" class=\"dataframe\">\n",
       "  <thead>\n",
       "    <tr style=\"text-align: right;\">\n",
       "      <th></th>\n",
       "      <th>id</th>\n",
       "      <th>chain</th>\n",
       "      <th>dept</th>\n",
       "      <th>category</th>\n",
       "      <th>company</th>\n",
       "      <th>brand</th>\n",
       "      <th>productsize</th>\n",
       "      <th>purchasequantity</th>\n",
       "      <th>purchaseamount</th>\n",
       "    </tr>\n",
       "  </thead>\n",
       "  <tbody>\n",
       "    <tr>\n",
       "      <th>count</th>\n",
       "      <td>1.000000e+07</td>\n",
       "      <td>1.000000e+07</td>\n",
       "      <td>1.000000e+07</td>\n",
       "      <td>1.000000e+07</td>\n",
       "      <td>1.000000e+07</td>\n",
       "      <td>1.000000e+07</td>\n",
       "      <td>1.000000e+07</td>\n",
       "      <td>1.000000e+07</td>\n",
       "      <td>1.000000e+07</td>\n",
       "    </tr>\n",
       "    <tr>\n",
       "      <th>mean</th>\n",
       "      <td>1.111775e+08</td>\n",
       "      <td>2.631343e+01</td>\n",
       "      <td>4.166467e+01</td>\n",
       "      <td>4.180254e+03</td>\n",
       "      <td>2.202853e+08</td>\n",
       "      <td>1.593180e+04</td>\n",
       "      <td>2.834404e+01</td>\n",
       "      <td>1.380535e+00</td>\n",
       "      <td>4.572598e+00</td>\n",
       "    </tr>\n",
       "    <tr>\n",
       "      <th>std</th>\n",
       "      <td>1.974703e+07</td>\n",
       "      <td>3.059072e+01</td>\n",
       "      <td>2.789194e+01</td>\n",
       "      <td>2.791806e+03</td>\n",
       "      <td>4.418062e+08</td>\n",
       "      <td>1.509730e+04</td>\n",
       "      <td>5.072834e+01</td>\n",
       "      <td>1.167092e+00</td>\n",
       "      <td>6.496406e+00</td>\n",
       "    </tr>\n",
       "    <tr>\n",
       "      <th>min</th>\n",
       "      <td>8.624600e+04</td>\n",
       "      <td>2.000000e+00</td>\n",
       "      <td>0.000000e+00</td>\n",
       "      <td>0.000000e+00</td>\n",
       "      <td>1.000000e+04</td>\n",
       "      <td>0.000000e+00</td>\n",
       "      <td>0.000000e+00</td>\n",
       "      <td>-2.800000e+01</td>\n",
       "      <td>-2.664200e+02</td>\n",
       "    </tr>\n",
       "    <tr>\n",
       "      <th>25%</th>\n",
       "      <td>1.046491e+08</td>\n",
       "      <td>1.400000e+01</td>\n",
       "      <td>1.800000e+01</td>\n",
       "      <td>1.890000e+03</td>\n",
       "      <td>1.021130e+08</td>\n",
       "      <td>7.848000e+03</td>\n",
       "      <td>7.500000e+00</td>\n",
       "      <td>1.000000e+00</td>\n",
       "      <td>2.290000e+00</td>\n",
       "    </tr>\n",
       "    <tr>\n",
       "      <th>50%</th>\n",
       "      <td>1.209127e+08</td>\n",
       "      <td>1.500000e+01</td>\n",
       "      <td>3.600000e+01</td>\n",
       "      <td>3.630000e+03</td>\n",
       "      <td>1.040000e+08</td>\n",
       "      <td>1.329100e+04</td>\n",
       "      <td>1.420000e+01</td>\n",
       "      <td>1.000000e+00</td>\n",
       "      <td>3.490000e+00</td>\n",
       "    </tr>\n",
       "    <tr>\n",
       "      <th>75%</th>\n",
       "      <td>1.238009e+08</td>\n",
       "      <td>1.800000e+01</td>\n",
       "      <td>6.000000e+01</td>\n",
       "      <td>6.012000e+03</td>\n",
       "      <td>1.073041e+08</td>\n",
       "      <td>1.711700e+04</td>\n",
       "      <td>2.400000e+01</td>\n",
       "      <td>1.000000e+00</td>\n",
       "      <td>5.490000e+00</td>\n",
       "    </tr>\n",
       "    <tr>\n",
       "      <th>max</th>\n",
       "      <td>1.260829e+08</td>\n",
       "      <td>2.170000e+02</td>\n",
       "      <td>9.900000e+01</td>\n",
       "      <td>9.999000e+03</td>\n",
       "      <td>1.099874e+10</td>\n",
       "      <td>1.086200e+05</td>\n",
       "      <td>4.000000e+03</td>\n",
       "      <td>3.840000e+02</td>\n",
       "      <td>3.000000e+03</td>\n",
       "    </tr>\n",
       "  </tbody>\n",
       "</table>\n",
       "</div>"
      ],
      "text/plain": [
       "                 id         chain          dept      category       company  \\\n",
       "count  1.000000e+07  1.000000e+07  1.000000e+07  1.000000e+07  1.000000e+07   \n",
       "mean   1.111775e+08  2.631343e+01  4.166467e+01  4.180254e+03  2.202853e+08   \n",
       "std    1.974703e+07  3.059072e+01  2.789194e+01  2.791806e+03  4.418062e+08   \n",
       "min    8.624600e+04  2.000000e+00  0.000000e+00  0.000000e+00  1.000000e+04   \n",
       "25%    1.046491e+08  1.400000e+01  1.800000e+01  1.890000e+03  1.021130e+08   \n",
       "50%    1.209127e+08  1.500000e+01  3.600000e+01  3.630000e+03  1.040000e+08   \n",
       "75%    1.238009e+08  1.800000e+01  6.000000e+01  6.012000e+03  1.073041e+08   \n",
       "max    1.260829e+08  2.170000e+02  9.900000e+01  9.999000e+03  1.099874e+10   \n",
       "\n",
       "              brand   productsize  purchasequantity  purchaseamount  \n",
       "count  1.000000e+07  1.000000e+07      1.000000e+07    1.000000e+07  \n",
       "mean   1.593180e+04  2.834404e+01      1.380535e+00    4.572598e+00  \n",
       "std    1.509730e+04  5.072834e+01      1.167092e+00    6.496406e+00  \n",
       "min    0.000000e+00  0.000000e+00     -2.800000e+01   -2.664200e+02  \n",
       "25%    7.848000e+03  7.500000e+00      1.000000e+00    2.290000e+00  \n",
       "50%    1.329100e+04  1.420000e+01      1.000000e+00    3.490000e+00  \n",
       "75%    1.711700e+04  2.400000e+01      1.000000e+00    5.490000e+00  \n",
       "max    1.086200e+05  4.000000e+03      3.840000e+02    3.000000e+03  "
      ]
     },
     "execution_count": 6,
     "metadata": {},
     "output_type": "execute_result"
    }
   ],
   "source": [
    "chunk1.describe()"
   ]
  },
  {
   "cell_type": "markdown",
   "metadata": {},
   "source": [
    "9,606 unique customers in this chunk."
   ]
  },
  {
   "cell_type": "code",
   "execution_count": 7,
   "metadata": {
    "collapsed": false
   },
   "outputs": [
    {
     "data": {
      "text/plain": [
       "(9606,)"
      ]
     },
     "execution_count": 7,
     "metadata": {},
     "output_type": "execute_result"
    }
   ],
   "source": [
    "chunk1['id'].unique().shape"
   ]
  },
  {
   "cell_type": "markdown",
   "metadata": {},
   "source": [
    "## Top department"
   ]
  },
  {
   "cell_type": "code",
   "execution_count": 8,
   "metadata": {
    "collapsed": false
   },
   "outputs": [
    {
     "data": {
      "text/plain": [
       "dept\n",
       "9     0.086751\n",
       "63    0.077805\n",
       "99    0.054898\n",
       "36    0.050704\n",
       "33    0.042609\n",
       "56    0.040353\n",
       "58    0.037662\n",
       "5     0.035145\n",
       "26    0.034572\n",
       "8     0.028861\n",
       "51    0.028739\n",
       "64    0.025441\n",
       "4     0.022438\n",
       "97    0.022086\n",
       "21    0.021762\n",
       "Name: dept, dtype: float64"
      ]
     },
     "execution_count": 8,
     "metadata": {},
     "output_type": "execute_result"
    }
   ],
   "source": [
    "dept_count = chunk1.groupby('dept')['dept'].count().sort_values(ascending=False)\n",
    "(dept_count / dept_count.sum()).head(15)"
   ]
  },
  {
   "cell_type": "markdown",
   "metadata": {},
   "source": [
    "## Top category"
   ]
  },
  {
   "cell_type": "code",
   "execution_count": 9,
   "metadata": {
    "collapsed": false
   },
   "outputs": [
    {
     "data": {
      "text/plain": [
       "category\n",
       "907     0.033090\n",
       "6315    0.028687\n",
       "501     0.020184\n",
       "9909    0.019505\n",
       "9908    0.017165\n",
       "9753    0.016590\n",
       "9904    0.016198\n",
       "902     0.015051\n",
       "6320    0.013909\n",
       "5823    0.010413\n",
       "6401    0.010006\n",
       "901     0.009711\n",
       "3303    0.009009\n",
       "9609    0.008816\n",
       "3611    0.007887\n",
       "Name: category, dtype: float64"
      ]
     },
     "execution_count": 9,
     "metadata": {},
     "output_type": "execute_result"
    }
   ],
   "source": [
    "category_count = chunk1.groupby('category')['category'].count().sort_values(ascending=False)\n",
    "(category_count / category_count.sum()).head(15)"
   ]
  },
  {
   "cell_type": "markdown",
   "metadata": {},
   "source": [
    "## Top chains"
   ]
  },
  {
   "cell_type": "code",
   "execution_count": 10,
   "metadata": {
    "collapsed": false
   },
   "outputs": [
    {
     "data": {
      "text/plain": [
       "chain\n",
       "15     0.239584\n",
       "18     0.175876\n",
       "4      0.155897\n",
       "17     0.096828\n",
       "95     0.087274\n",
       "20     0.069154\n",
       "14     0.068661\n",
       "88     0.065687\n",
       "3      0.036765\n",
       "205    0.002470\n",
       "192    0.000859\n",
       "58     0.000314\n",
       "46     0.000299\n",
       "217    0.000253\n",
       "2      0.000080\n",
       "Name: chain, dtype: float64"
      ]
     },
     "execution_count": 10,
     "metadata": {},
     "output_type": "execute_result"
    }
   ],
   "source": [
    "chain_count = chunk1.groupby('chain')['chain'].count().sort_values(ascending=False)\n",
    "(chain_count / chain_count.sum()).head(15)"
   ]
  },
  {
   "cell_type": "markdown",
   "metadata": {},
   "source": [
    "## Top companies"
   ]
  },
  {
   "cell_type": "code",
   "execution_count": 11,
   "metadata": {
    "collapsed": false
   },
   "outputs": [
    {
     "data": {
      "text/plain": [
       "company\n",
       "102113020    0.207167\n",
       "107989373    0.033782\n",
       "102840020    0.021571\n",
       "101600010    0.015470\n",
       "104400040    0.014116\n",
       "103700030    0.014077\n",
       "103800030    0.011840\n",
       "104900040    0.011792\n",
       "102100020    0.011725\n",
       "10000        0.011114\n",
       "105100050    0.010110\n",
       "101200010    0.009802\n",
       "107127979    0.009223\n",
       "103400030    0.008598\n",
       "104470040    0.008583\n",
       "Name: company, dtype: float64"
      ]
     },
     "execution_count": 11,
     "metadata": {},
     "output_type": "execute_result"
    }
   ],
   "source": [
    "company_count = chunk1.groupby('company')['company'].count().sort_values(ascending=False)\n",
    "(company_count / company_count.sum()).head(15)"
   ]
  },
  {
   "cell_type": "markdown",
   "metadata": {},
   "source": [
    "## Top brands"
   ]
  },
  {
   "cell_type": "code",
   "execution_count": 12,
   "metadata": {
    "collapsed": false
   },
   "outputs": [
    {
     "data": {
      "text/plain": [
       "brand\n",
       "15704    0.124630\n",
       "10786    0.062087\n",
       "0        0.018323\n",
       "12908    0.015449\n",
       "30626    0.013390\n",
       "33170    0.012552\n",
       "6732     0.009223\n",
       "16397    0.009043\n",
       "88199    0.008816\n",
       "9886     0.007436\n",
       "13310    0.006579\n",
       "29344    0.006077\n",
       "2820     0.005696\n",
       "20230    0.005490\n",
       "5278     0.005481\n",
       "Name: brand, dtype: float64"
      ]
     },
     "execution_count": 12,
     "metadata": {},
     "output_type": "execute_result"
    }
   ],
   "source": [
    "brand_count = chunk1.groupby('brand')['brand'].count().sort_values(ascending=False)\n",
    "(brand_count / brand_count.sum()).head(15)"
   ]
  },
  {
   "cell_type": "markdown",
   "metadata": {},
   "source": [
    "## Time series plot.\n",
    "Number of transactions on each date."
   ]
  },
  {
   "cell_type": "code",
   "execution_count": 13,
   "metadata": {
    "collapsed": true
   },
   "outputs": [],
   "source": [
    "date_trans_count = chunk1.groupby('date')['date'].count()"
   ]
  },
  {
   "cell_type": "code",
   "execution_count": 14,
   "metadata": {
    "collapsed": false
   },
   "outputs": [
    {
     "name": "stdout",
     "output_type": "stream",
     "text": [
      "2012-03-02\n",
      "2013-07-27\n"
     ]
    }
   ],
   "source": [
    "print min(date_trans_count.index)\n",
    "print max(date_trans_count.index)"
   ]
  },
  {
   "cell_type": "code",
   "execution_count": 15,
   "metadata": {
    "collapsed": false
   },
   "outputs": [
    {
     "data": {
      "image/png": "[encoded data removed]",
      "text/plain": [
       "<matplotlib.figure.Figure at 0x121039c50>"
      ]
     },
     "metadata": {},
     "output_type": "display_data"
    }
   ],
   "source": [
    "sns.tsplot(date_trans_count)\n",
    "sns.plt.show()"
   ]
  },
  {
   "cell_type": "markdown",
   "metadata": {},
   "source": [
    "## Number of transactions per user"
   ]
  },
  {
   "cell_type": "code",
   "execution_count": 16,
   "metadata": {
    "collapsed": false
   },
   "outputs": [
    {
     "data": {
      "text/plain": [
       "768     14\n",
       "474     14\n",
       "554     14\n",
       "762     14\n",
       "565     14\n",
       "1160    13\n",
       "464     13\n",
       "488     13\n",
       "248     13\n",
       "310     13\n",
       "525     13\n",
       "1126    12\n",
       "510     12\n",
       "529     12\n",
       "276     12\n",
       "Name: id, dtype: int64"
      ]
     },
     "execution_count": 16,
     "metadata": {},
     "output_type": "execute_result"
    }
   ],
   "source": [
    "id_counts = chunk1.groupby('id')['id'].count()\n",
    "id_counts.value_counts().sort_values(ascending=False).head(15)"
   ]
  },
  {
   "cell_type": "code",
   "execution_count": 17,
   "metadata": {
    "collapsed": false
   },
   "outputs": [
    {
     "data": {
      "text/plain": [
       "count     9606.000000\n",
       "mean      1041.016032\n",
       "std        709.232351\n",
       "min          7.000000\n",
       "25%        522.250000\n",
       "50%        895.000000\n",
       "75%       1411.000000\n",
       "max      12609.000000\n",
       "Name: id, dtype: float64"
      ]
     },
     "execution_count": 17,
     "metadata": {},
     "output_type": "execute_result"
    }
   ],
   "source": [
    "id_counts.describe()"
   ]
  },
  {
   "cell_type": "markdown",
   "metadata": {},
   "source": [
    "Heavily skewed to the right. Will have to remove or cap this feature."
   ]
  },
  {
   "cell_type": "code",
   "execution_count": 18,
   "metadata": {
    "collapsed": false
   },
   "outputs": [
    {
     "data": {
      "image/png": "[encoded data removed]",
      "text/plain": [
       "<matplotlib.figure.Figure at 0x1043d0090>"
      ]
     },
     "metadata": {},
     "output_type": "display_data"
    }
   ],
   "source": [
    "sns.distplot(id_counts)\n",
    "sns.plt.show()"
   ]
  },
  {
   "cell_type": "markdown",
   "metadata": {},
   "source": [
    "## Train history data"
   ]
  },
  {
   "cell_type": "code",
   "execution_count": 19,
   "metadata": {
    "collapsed": true
   },
   "outputs": [],
   "source": [
    "train = pd.read_csv('../data/trainHistory.csv')\n",
    "offers = pd.read_csv('../data/offers.csv')"
   ]
  },
  {
   "cell_type": "code",
   "execution_count": 20,
   "metadata": {
    "collapsed": true
   },
   "outputs": [],
   "source": [
    "train = pd.merge(train, offers, how='left', on=['offer'])"
   ]
  },
  {
   "cell_type": "code",
   "execution_count": 21,
   "metadata": {
    "collapsed": true
   },
   "outputs": [],
   "source": [
    "# Merge the number of transactions per customer to the train data\n",
    "id_counts_df = pd.DataFrame(id_counts)\n",
    "id_counts_df.columns = ['counts']\n",
    "id_counts_df.reset_index(inplace=True)\n",
    "train = pd.merge(train, id_counts_df, how='left', on='id')"
   ]
  },
  {
   "cell_type": "code",
   "execution_count": 22,
   "metadata": {
    "collapsed": true
   },
   "outputs": [],
   "source": [
    "# Reencode the target variable\n",
    "train['repeater'] = np.where(train['repeater'] == 't', '1', '0')"
   ]
  },
  {
   "cell_type": "code",
   "execution_count": 23,
   "metadata": {
    "collapsed": false
   },
   "outputs": [
    {
     "data": {
      "text/html": [
       "<div>\n",
       "<table border=\"1\" class=\"dataframe\">\n",
       "  <thead>\n",
       "    <tr style=\"text-align: right;\">\n",
       "      <th></th>\n",
       "      <th>id</th>\n",
       "      <th>chain</th>\n",
       "      <th>offer</th>\n",
       "      <th>market</th>\n",
       "      <th>repeattrips</th>\n",
       "      <th>repeater</th>\n",
       "      <th>offerdate</th>\n",
       "      <th>category</th>\n",
       "      <th>quantity</th>\n",
       "      <th>company</th>\n",
       "      <th>offervalue</th>\n",
       "      <th>brand</th>\n",
       "      <th>counts</th>\n",
       "    </tr>\n",
       "  </thead>\n",
       "  <tbody>\n",
       "    <tr>\n",
       "      <th>0</th>\n",
       "      <td>86246</td>\n",
       "      <td>205</td>\n",
       "      <td>1208251</td>\n",
       "      <td>34</td>\n",
       "      <td>5</td>\n",
       "      <td>1</td>\n",
       "      <td>2013-04-24</td>\n",
       "      <td>2202</td>\n",
       "      <td>1</td>\n",
       "      <td>104460040</td>\n",
       "      <td>2.00</td>\n",
       "      <td>3718</td>\n",
       "      <td>12609.0</td>\n",
       "    </tr>\n",
       "    <tr>\n",
       "      <th>1</th>\n",
       "      <td>86252</td>\n",
       "      <td>205</td>\n",
       "      <td>1197502</td>\n",
       "      <td>34</td>\n",
       "      <td>16</td>\n",
       "      <td>1</td>\n",
       "      <td>2013-03-27</td>\n",
       "      <td>3203</td>\n",
       "      <td>1</td>\n",
       "      <td>106414464</td>\n",
       "      <td>0.75</td>\n",
       "      <td>13474</td>\n",
       "      <td>12087.0</td>\n",
       "    </tr>\n",
       "    <tr>\n",
       "      <th>2</th>\n",
       "      <td>12682470</td>\n",
       "      <td>18</td>\n",
       "      <td>1197502</td>\n",
       "      <td>11</td>\n",
       "      <td>0</td>\n",
       "      <td>0</td>\n",
       "      <td>2013-03-28</td>\n",
       "      <td>3203</td>\n",
       "      <td>1</td>\n",
       "      <td>106414464</td>\n",
       "      <td>0.75</td>\n",
       "      <td>13474</td>\n",
       "      <td>806.0</td>\n",
       "    </tr>\n",
       "    <tr>\n",
       "      <th>3</th>\n",
       "      <td>12996040</td>\n",
       "      <td>15</td>\n",
       "      <td>1197502</td>\n",
       "      <td>9</td>\n",
       "      <td>0</td>\n",
       "      <td>0</td>\n",
       "      <td>2013-03-25</td>\n",
       "      <td>3203</td>\n",
       "      <td>1</td>\n",
       "      <td>106414464</td>\n",
       "      <td>0.75</td>\n",
       "      <td>13474</td>\n",
       "      <td>326.0</td>\n",
       "    </tr>\n",
       "    <tr>\n",
       "      <th>4</th>\n",
       "      <td>13089312</td>\n",
       "      <td>15</td>\n",
       "      <td>1204821</td>\n",
       "      <td>9</td>\n",
       "      <td>0</td>\n",
       "      <td>0</td>\n",
       "      <td>2013-04-01</td>\n",
       "      <td>5619</td>\n",
       "      <td>1</td>\n",
       "      <td>107717272</td>\n",
       "      <td>1.50</td>\n",
       "      <td>102504</td>\n",
       "      <td>1218.0</td>\n",
       "    </tr>\n",
       "  </tbody>\n",
       "</table>\n",
       "</div>"
      ],
      "text/plain": [
       "         id  chain    offer  market  repeattrips repeater   offerdate  \\\n",
       "0     86246    205  1208251      34            5        1  2013-04-24   \n",
       "1     86252    205  1197502      34           16        1  2013-03-27   \n",
       "2  12682470     18  1197502      11            0        0  2013-03-28   \n",
       "3  12996040     15  1197502       9            0        0  2013-03-25   \n",
       "4  13089312     15  1204821       9            0        0  2013-04-01   \n",
       "\n",
       "   category  quantity    company  offervalue   brand   counts  \n",
       "0      2202         1  104460040        2.00    3718  12609.0  \n",
       "1      3203         1  106414464        0.75   13474  12087.0  \n",
       "2      3203         1  106414464        0.75   13474    806.0  \n",
       "3      3203         1  106414464        0.75   13474    326.0  \n",
       "4      5619         1  107717272        1.50  102504   1218.0  "
      ]
     },
     "execution_count": 23,
     "metadata": {},
     "output_type": "execute_result"
    }
   ],
   "source": [
    "train.head()"
   ]
  },
  {
   "cell_type": "markdown",
   "metadata": {},
   "source": [
    "About 27% of customers in the training data have used the offer."
   ]
  },
  {
   "cell_type": "code",
   "execution_count": 24,
   "metadata": {
    "collapsed": false
   },
   "outputs": [
    {
     "data": {
      "text/plain": [
       "inf"
      ]
     },
     "execution_count": 24,
     "metadata": {},
     "output_type": "execute_result"
    }
   ],
   "source": [
    "train['repeater'].mean()"
   ]
  },
  {
   "cell_type": "markdown",
   "metadata": {},
   "source": [
    "37 total offers in the offers CSV file. There are 24 unique offers in the training set and 13 unique offers in the testing set."
   ]
  },
  {
   "cell_type": "code",
   "execution_count": 25,
   "metadata": {
    "collapsed": false
   },
   "outputs": [
    {
     "name": "stdout",
     "output_type": "stream",
     "text": [
      "37\n",
      "24\n"
     ]
    }
   ],
   "source": [
    "print len(offers['offer'].unique())\n",
    "print len(train['offer'].unique())"
   ]
  },
  {
   "cell_type": "markdown",
   "metadata": {},
   "source": [
    "Customers with more transactions are more likely to accept the offer."
   ]
  },
  {
   "cell_type": "code",
   "execution_count": 26,
   "metadata": {
    "collapsed": false
   },
   "outputs": [
    {
     "data": {
      "text/plain": [
       "repeater\n",
       "0     908.848820\n",
       "1    1100.929708\n",
       "Name: counts, dtype: float64"
      ]
     },
     "execution_count": 26,
     "metadata": {},
     "output_type": "execute_result"
    }
   ],
   "source": [
    "train.groupby('repeater')['counts'].mean()"
   ]
  },
  {
   "cell_type": "code",
   "execution_count": 27,
   "metadata": {
    "collapsed": false
   },
   "outputs": [
    {
     "data": {
      "image/png": "[encoded data removed]",
      "text/plain": [
       "<matplotlib.figure.Figure at 0x115d241d0>"
      ]
     },
     "metadata": {},
     "output_type": "display_data"
    }
   ],
   "source": [
    "sns.boxplot(x='repeater', y='counts', data=train)\n",
    "sns.plt.show()"
   ]
  },
  {
   "cell_type": "code",
   "execution_count": null,
   "metadata": {
    "collapsed": false
   },
   "outputs": [],
   "source": []
  },
  {
   "cell_type": "code",
   "execution_count": null,
   "metadata": {
    "collapsed": true
   },
   "outputs": [],
   "source": []
  }
 ],
 "metadata": {
  "anaconda-cloud": {},
  "kernelspec": {
   "display_name": "Python [conda root]",
   "language": "python",
   "name": "conda-root-py"
  },
  "language_info": {
   "codemirror_mode": {
    "name": "ipython",
    "version": 2
   },
   "file_extension": ".py",
   "mimetype": "text/x-python",
   "name": "python",
   "nbconvert_exporter": "python",
   "pygments_lexer": "ipython2",
   "version": "2.7.12"
  }
 },
 "nbformat": 4,
 "nbformat_minor": 1
}
